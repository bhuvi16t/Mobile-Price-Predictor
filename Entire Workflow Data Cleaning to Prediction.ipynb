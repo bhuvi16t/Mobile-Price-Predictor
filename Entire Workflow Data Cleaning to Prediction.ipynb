{
 "cells": [
  {
   "cell_type": "markdown",
   "id": "962496cf-6307-44f4-bb5d-d199709d3ffc",
   "metadata": {},
   "source": [
    "## Mobile Price Prediction "
   ]
  },
  {
   "cell_type": "markdown",
   "id": "23b57cf2-a3b4-45de-8490-017093b5951d",
   "metadata": {},
   "source": [
    "### Importing Libraries "
   ]
  },
  {
   "cell_type": "code",
   "execution_count": 706,
   "id": "ba17754d-4993-4b81-9295-7edcec6a9059",
   "metadata": {},
   "outputs": [],
   "source": [
    "import numpy as np\n",
    "import pandas as pd \n",
    "import matplotlib.pyplot as plt "
   ]
  },
  {
   "cell_type": "markdown",
   "id": "41052647-bcfd-4a36-8b09-cbdf763f914c",
   "metadata": {},
   "source": [
    "#### Load Data "
   ]
  },
  {
   "cell_type": "code",
   "execution_count": 707,
   "id": "0d834fb2-ba31-4351-86b9-f1608e1bcd7d",
   "metadata": {},
   "outputs": [],
   "source": [
    "df = pd.read_csv('Flipkart Mobile.csv')"
   ]
  },
  {
   "cell_type": "code",
   "execution_count": 708,
   "id": "f4739c4f-b8a5-484c-b780-25c05851b630",
   "metadata": {},
   "outputs": [
    {
     "data": {
      "text/plain": [
       "(28536, 9)"
      ]
     },
     "execution_count": 708,
     "metadata": {},
     "output_type": "execute_result"
    }
   ],
   "source": [
    "df.head()\n",
    "df.shape"
   ]
  },
  {
   "cell_type": "markdown",
   "id": "cbb209ba-15c8-4507-aec1-e18c1f5777dc",
   "metadata": {},
   "source": [
    "### Removing unnessisaary Columns"
   ]
  },
  {
   "cell_type": "code",
   "execution_count": 709,
   "id": "8a7c392d-48d7-49cb-b079-cd69fbbb55b6",
   "metadata": {},
   "outputs": [],
   "source": [
    "df.drop(columns=['Unnamed: 0'],inplace=True,axis=1)"
   ]
  },
  {
   "cell_type": "code",
   "execution_count": 710,
   "id": "97ec429a-5935-4a6c-bceb-60531f4bc6d0",
   "metadata": {},
   "outputs": [
    {
     "data": {
      "text/html": [
       "<div>\n",
       "<style scoped>\n",
       "    .dataframe tbody tr th:only-of-type {\n",
       "        vertical-align: middle;\n",
       "    }\n",
       "\n",
       "    .dataframe tbody tr th {\n",
       "        vertical-align: top;\n",
       "    }\n",
       "\n",
       "    .dataframe thead th {\n",
       "        text-align: right;\n",
       "    }\n",
       "</style>\n",
       "<table border=\"1\" class=\"dataframe\">\n",
       "  <thead>\n",
       "    <tr style=\"text-align: right;\">\n",
       "      <th></th>\n",
       "      <th>Model Name</th>\n",
       "      <th>Price</th>\n",
       "      <th>Memory</th>\n",
       "      <th>Rating</th>\n",
       "      <th>Display</th>\n",
       "      <th>Camera</th>\n",
       "      <th>Battery</th>\n",
       "      <th>Processor</th>\n",
       "    </tr>\n",
       "  </thead>\n",
       "  <tbody>\n",
       "    <tr>\n",
       "      <th>0</th>\n",
       "      <td>vivo T3 Pro 5G (Sandstone Orange, 256 GB)</td>\n",
       "      <td>₹31,999</td>\n",
       "      <td>8 GB RAM | 256 GB ROM</td>\n",
       "      <td>4.5</td>\n",
       "      <td>17.2 cm (6.77 inch) Full HD+ AMOLED Display</td>\n",
       "      <td>50MP + 8MP | 16MP Front Camera</td>\n",
       "      <td>5500 mAh Battery</td>\n",
       "      <td>Snapdragon 7 Gen 3 Processor</td>\n",
       "    </tr>\n",
       "    <tr>\n",
       "      <th>1</th>\n",
       "      <td>vivo T3 Pro 5G (Emerald Green, 256 GB)</td>\n",
       "      <td>₹31,999</td>\n",
       "      <td>8 GB RAM | 256 GB ROM</td>\n",
       "      <td>4.5</td>\n",
       "      <td>17.2 cm (6.77 inch) Full HD+ AMOLED Display</td>\n",
       "      <td>50MP + 8MP | 16MP Front Camera</td>\n",
       "      <td>5500 mAh Battery</td>\n",
       "      <td>Snapdragon 7 Gen 3 Processor</td>\n",
       "    </tr>\n",
       "    <tr>\n",
       "      <th>2</th>\n",
       "      <td>MOTOROLA Edge 50 (Jungle Green, 256 GB)</td>\n",
       "      <td>₹32,999</td>\n",
       "      <td>8 GB RAM | 256 GB ROM</td>\n",
       "      <td>4.3</td>\n",
       "      <td>16.94 cm (6.67 inch) Display</td>\n",
       "      <td>50MP + 13MP + 10MP | 32MP Front Camera</td>\n",
       "      <td>5000 mAh Battery</td>\n",
       "      <td>Snapdragon 7 Gen 1 Accelerated Edition Processor</td>\n",
       "    </tr>\n",
       "    <tr>\n",
       "      <th>3</th>\n",
       "      <td>MOTOROLA Edge 50 (Koala Grey, 256 GB)</td>\n",
       "      <td>₹32,999</td>\n",
       "      <td>8 GB RAM | 256 GB ROM</td>\n",
       "      <td>4.3</td>\n",
       "      <td>16.94 cm (6.67 inch) Display</td>\n",
       "      <td>50MP + 13MP + 10MP | 32MP Front Camera</td>\n",
       "      <td>5000 mAh Battery</td>\n",
       "      <td>Snapdragon 7 Gen 1 Accelerated Edition Processor</td>\n",
       "    </tr>\n",
       "    <tr>\n",
       "      <th>4</th>\n",
       "      <td>REDMI Note 13 Pro 5G (Coral Purple, 256 GB)</td>\n",
       "      <td>₹32,999</td>\n",
       "      <td>12 GB RAM | 256 GB ROM</td>\n",
       "      <td>4.3</td>\n",
       "      <td>16.94 cm (6.67 inch) Display</td>\n",
       "      <td>200MP (OIS) + 8MP + 2MP | 16MP Front Camera</td>\n",
       "      <td>5100 mAh Battery</td>\n",
       "      <td>7s Gen 2 Mobile Platform 5G Processor</td>\n",
       "    </tr>\n",
       "  </tbody>\n",
       "</table>\n",
       "</div>"
      ],
      "text/plain": [
       "                                    Model Name    Price  \\\n",
       "0    vivo T3 Pro 5G (Sandstone Orange, 256 GB)  ₹31,999   \n",
       "1       vivo T3 Pro 5G (Emerald Green, 256 GB)  ₹31,999   \n",
       "2      MOTOROLA Edge 50 (Jungle Green, 256 GB)  ₹32,999   \n",
       "3        MOTOROLA Edge 50 (Koala Grey, 256 GB)  ₹32,999   \n",
       "4  REDMI Note 13 Pro 5G (Coral Purple, 256 GB)  ₹32,999   \n",
       "\n",
       "                   Memory  Rating  \\\n",
       "0   8 GB RAM | 256 GB ROM     4.5   \n",
       "1   8 GB RAM | 256 GB ROM     4.5   \n",
       "2   8 GB RAM | 256 GB ROM     4.3   \n",
       "3   8 GB RAM | 256 GB ROM     4.3   \n",
       "4  12 GB RAM | 256 GB ROM     4.3   \n",
       "\n",
       "                                       Display  \\\n",
       "0  17.2 cm (6.77 inch) Full HD+ AMOLED Display   \n",
       "1  17.2 cm (6.77 inch) Full HD+ AMOLED Display   \n",
       "2                 16.94 cm (6.67 inch) Display   \n",
       "3                 16.94 cm (6.67 inch) Display   \n",
       "4                 16.94 cm (6.67 inch) Display   \n",
       "\n",
       "                                        Camera           Battery  \\\n",
       "0               50MP + 8MP | 16MP Front Camera  5500 mAh Battery   \n",
       "1               50MP + 8MP | 16MP Front Camera  5500 mAh Battery   \n",
       "2       50MP + 13MP + 10MP | 32MP Front Camera  5000 mAh Battery   \n",
       "3       50MP + 13MP + 10MP | 32MP Front Camera  5000 mAh Battery   \n",
       "4  200MP (OIS) + 8MP + 2MP | 16MP Front Camera  5100 mAh Battery   \n",
       "\n",
       "                                          Processor  \n",
       "0                      Snapdragon 7 Gen 3 Processor  \n",
       "1                      Snapdragon 7 Gen 3 Processor  \n",
       "2  Snapdragon 7 Gen 1 Accelerated Edition Processor  \n",
       "3  Snapdragon 7 Gen 1 Accelerated Edition Processor  \n",
       "4             7s Gen 2 Mobile Platform 5G Processor  "
      ]
     },
     "execution_count": 710,
     "metadata": {},
     "output_type": "execute_result"
    }
   ],
   "source": [
    "df.head()"
   ]
  },
  {
   "cell_type": "code",
   "execution_count": 711,
   "id": "0ed28dbe-2149-4c67-85a7-6185158ebb22",
   "metadata": {},
   "outputs": [
    {
     "data": {
      "text/plain": [
       "Model Name       0\n",
       "Price         2807\n",
       "Memory           0\n",
       "Rating         173\n",
       "Display          0\n",
       "Camera           0\n",
       "Battery          0\n",
       "Processor        0\n",
       "dtype: int64"
      ]
     },
     "execution_count": 711,
     "metadata": {},
     "output_type": "execute_result"
    }
   ],
   "source": [
    "# check for missing values \n",
    "df.isnull().sum()"
   ]
  },
  {
   "cell_type": "code",
   "execution_count": 712,
   "id": "ee9f2ef2-e02a-40bc-bbdf-e400d5c747ca",
   "metadata": {},
   "outputs": [
    {
     "data": {
      "text/html": [
       "<div>\n",
       "<style scoped>\n",
       "    .dataframe tbody tr th:only-of-type {\n",
       "        vertical-align: middle;\n",
       "    }\n",
       "\n",
       "    .dataframe tbody tr th {\n",
       "        vertical-align: top;\n",
       "    }\n",
       "\n",
       "    .dataframe thead th {\n",
       "        text-align: right;\n",
       "    }\n",
       "</style>\n",
       "<table border=\"1\" class=\"dataframe\">\n",
       "  <thead>\n",
       "    <tr style=\"text-align: right;\">\n",
       "      <th></th>\n",
       "      <th>Rating</th>\n",
       "    </tr>\n",
       "  </thead>\n",
       "  <tbody>\n",
       "    <tr>\n",
       "      <th>count</th>\n",
       "      <td>28363.000000</td>\n",
       "    </tr>\n",
       "    <tr>\n",
       "      <th>mean</th>\n",
       "      <td>4.270483</td>\n",
       "    </tr>\n",
       "    <tr>\n",
       "      <th>std</th>\n",
       "      <td>0.179429</td>\n",
       "    </tr>\n",
       "    <tr>\n",
       "      <th>min</th>\n",
       "      <td>3.400000</td>\n",
       "    </tr>\n",
       "    <tr>\n",
       "      <th>25%</th>\n",
       "      <td>4.200000</td>\n",
       "    </tr>\n",
       "    <tr>\n",
       "      <th>50%</th>\n",
       "      <td>4.300000</td>\n",
       "    </tr>\n",
       "    <tr>\n",
       "      <th>75%</th>\n",
       "      <td>4.400000</td>\n",
       "    </tr>\n",
       "    <tr>\n",
       "      <th>max</th>\n",
       "      <td>4.900000</td>\n",
       "    </tr>\n",
       "  </tbody>\n",
       "</table>\n",
       "</div>"
      ],
      "text/plain": [
       "             Rating\n",
       "count  28363.000000\n",
       "mean       4.270483\n",
       "std        0.179429\n",
       "min        3.400000\n",
       "25%        4.200000\n",
       "50%        4.300000\n",
       "75%        4.400000\n",
       "max        4.900000"
      ]
     },
     "execution_count": 712,
     "metadata": {},
     "output_type": "execute_result"
    }
   ],
   "source": [
    "# summary \n",
    "df.describe()"
   ]
  },
  {
   "cell_type": "code",
   "execution_count": 713,
   "id": "349a3a4b-5637-42fa-bb6f-4b319863728b",
   "metadata": {},
   "outputs": [],
   "source": [
    "# remove null values \n",
    "df.dropna(inplace=True)"
   ]
  },
  {
   "cell_type": "code",
   "execution_count": 714,
   "id": "9ea2006f-544c-4b48-b337-f3351782f89c",
   "metadata": {
    "scrolled": true
   },
   "outputs": [
    {
     "data": {
      "text/plain": [
       "Model Name    0\n",
       "Price         0\n",
       "Memory        0\n",
       "Rating        0\n",
       "Display       0\n",
       "Camera        0\n",
       "Battery       0\n",
       "Processor     0\n",
       "dtype: int64"
      ]
     },
     "execution_count": 714,
     "metadata": {},
     "output_type": "execute_result"
    }
   ],
   "source": [
    "df.isnull().sum()"
   ]
  },
  {
   "cell_type": "markdown",
   "id": "67af9e10-399d-461f-aea5-dd2e1eb3826c",
   "metadata": {},
   "source": [
    "### Data Cleaning"
   ]
  },
  {
   "cell_type": "code",
   "execution_count": 715,
   "id": "e0eb67b8-26d6-43c8-a413-b70c91777549",
   "metadata": {},
   "outputs": [],
   "source": [
    "\n",
    "\n",
    "df['Price'] = df['Price'].str.replace(\"₹\", \"\").str.replace(\",\", \"\").astype(int)"
   ]
  },
  {
   "cell_type": "code",
   "execution_count": 716,
   "id": "edaa8ead-6d02-40d9-82ae-03e5ab98faf8",
   "metadata": {
    "scrolled": true
   },
   "outputs": [],
   "source": [
    "df['Brand'] =  df['Model Name'].apply(lambda x : x.split(' ')[0])"
   ]
  },
  {
   "cell_type": "code",
   "execution_count": 717,
   "id": "08369bb1-2557-4f6e-a850-df1c1ddf00b3",
   "metadata": {},
   "outputs": [],
   "source": [
    "df['Battery'] = df['Battery'].apply(lambda x : x.split(' ')[0])"
   ]
  },
  {
   "cell_type": "code",
   "execution_count": 718,
   "id": "4ea741b0-81e0-4f7b-9509-2b66b56f6dfb",
   "metadata": {},
   "outputs": [],
   "source": [
    "def is5g(string):\n",
    "    if '5G' in string:\n",
    "         return 1\n",
    "    else :\n",
    "         return 0\n",
    "df['Is5G'] = df['Model Name'].apply(is5g)"
   ]
  },
  {
   "cell_type": "code",
   "execution_count": 719,
   "id": "6d0bfae8-0d5b-4823-8f8b-87ff9e1418e5",
   "metadata": {},
   "outputs": [],
   "source": [
    "df['RAM'] = df['Memory'].apply(lambda x: x.split('|')[0].split(' ')[0])"
   ]
  },
  {
   "cell_type": "code",
   "execution_count": 720,
   "id": "47558c75-845e-4c8c-83b1-099e70acce6a",
   "metadata": {},
   "outputs": [],
   "source": [
    "df['ROM'] = df['Memory'].apply(lambda x: x.split('|')[1].split(' ')[1] if '|' in str(x) and len(x.split('|')) > 1 else None)"
   ]
  },
  {
   "cell_type": "code",
   "execution_count": 721,
   "id": "51c774ee-4e60-444a-bddc-29e6d55145fe",
   "metadata": {},
   "outputs": [],
   "source": [
    "df['rear_camera'] = df['Camera'].apply(lambda x: x.split('|')[0].split('+')[0].split('M')[0])"
   ]
  },
  {
   "cell_type": "code",
   "execution_count": 722,
   "id": "882c6405-d56c-4059-9fee-e7f32ade35f8",
   "metadata": {},
   "outputs": [],
   "source": [
    "df['front_camera'] = df['Camera'].apply(lambda x: x.split('|')[1].split('+')[0].split('M')[0] if '|' in str(x) and len(x.split('|')) > 1 else np.nan)"
   ]
  },
  {
   "cell_type": "code",
   "execution_count": 723,
   "id": "a570878b-2b45-42c4-bcca-7fdaa6b1a5a0",
   "metadata": {},
   "outputs": [
    {
     "data": {
      "text/html": [
       "<div>\n",
       "<style scoped>\n",
       "    .dataframe tbody tr th:only-of-type {\n",
       "        vertical-align: middle;\n",
       "    }\n",
       "\n",
       "    .dataframe tbody tr th {\n",
       "        vertical-align: top;\n",
       "    }\n",
       "\n",
       "    .dataframe thead th {\n",
       "        text-align: right;\n",
       "    }\n",
       "</style>\n",
       "<table border=\"1\" class=\"dataframe\">\n",
       "  <thead>\n",
       "    <tr style=\"text-align: right;\">\n",
       "      <th></th>\n",
       "      <th>Model Name</th>\n",
       "      <th>Price</th>\n",
       "      <th>Memory</th>\n",
       "      <th>Rating</th>\n",
       "      <th>Display</th>\n",
       "      <th>Camera</th>\n",
       "      <th>Battery</th>\n",
       "      <th>Processor</th>\n",
       "      <th>Brand</th>\n",
       "      <th>Is5G</th>\n",
       "      <th>RAM</th>\n",
       "      <th>ROM</th>\n",
       "      <th>rear_camera</th>\n",
       "      <th>front_camera</th>\n",
       "    </tr>\n",
       "  </thead>\n",
       "  <tbody>\n",
       "    <tr>\n",
       "      <th>0</th>\n",
       "      <td>vivo T3 Pro 5G (Sandstone Orange, 256 GB)</td>\n",
       "      <td>31999</td>\n",
       "      <td>8 GB RAM | 256 GB ROM</td>\n",
       "      <td>4.5</td>\n",
       "      <td>17.2 cm (6.77 inch) Full HD+ AMOLED Display</td>\n",
       "      <td>50MP + 8MP | 16MP Front Camera</td>\n",
       "      <td>5500</td>\n",
       "      <td>Snapdragon 7 Gen 3 Processor</td>\n",
       "      <td>vivo</td>\n",
       "      <td>1</td>\n",
       "      <td>8</td>\n",
       "      <td>256</td>\n",
       "      <td>50</td>\n",
       "      <td>16</td>\n",
       "    </tr>\n",
       "    <tr>\n",
       "      <th>1</th>\n",
       "      <td>vivo T3 Pro 5G (Emerald Green, 256 GB)</td>\n",
       "      <td>31999</td>\n",
       "      <td>8 GB RAM | 256 GB ROM</td>\n",
       "      <td>4.5</td>\n",
       "      <td>17.2 cm (6.77 inch) Full HD+ AMOLED Display</td>\n",
       "      <td>50MP + 8MP | 16MP Front Camera</td>\n",
       "      <td>5500</td>\n",
       "      <td>Snapdragon 7 Gen 3 Processor</td>\n",
       "      <td>vivo</td>\n",
       "      <td>1</td>\n",
       "      <td>8</td>\n",
       "      <td>256</td>\n",
       "      <td>50</td>\n",
       "      <td>16</td>\n",
       "    </tr>\n",
       "    <tr>\n",
       "      <th>2</th>\n",
       "      <td>MOTOROLA Edge 50 (Jungle Green, 256 GB)</td>\n",
       "      <td>32999</td>\n",
       "      <td>8 GB RAM | 256 GB ROM</td>\n",
       "      <td>4.3</td>\n",
       "      <td>16.94 cm (6.67 inch) Display</td>\n",
       "      <td>50MP + 13MP + 10MP | 32MP Front Camera</td>\n",
       "      <td>5000</td>\n",
       "      <td>Snapdragon 7 Gen 1 Accelerated Edition Processor</td>\n",
       "      <td>MOTOROLA</td>\n",
       "      <td>0</td>\n",
       "      <td>8</td>\n",
       "      <td>256</td>\n",
       "      <td>50</td>\n",
       "      <td>32</td>\n",
       "    </tr>\n",
       "    <tr>\n",
       "      <th>3</th>\n",
       "      <td>MOTOROLA Edge 50 (Koala Grey, 256 GB)</td>\n",
       "      <td>32999</td>\n",
       "      <td>8 GB RAM | 256 GB ROM</td>\n",
       "      <td>4.3</td>\n",
       "      <td>16.94 cm (6.67 inch) Display</td>\n",
       "      <td>50MP + 13MP + 10MP | 32MP Front Camera</td>\n",
       "      <td>5000</td>\n",
       "      <td>Snapdragon 7 Gen 1 Accelerated Edition Processor</td>\n",
       "      <td>MOTOROLA</td>\n",
       "      <td>0</td>\n",
       "      <td>8</td>\n",
       "      <td>256</td>\n",
       "      <td>50</td>\n",
       "      <td>32</td>\n",
       "    </tr>\n",
       "    <tr>\n",
       "      <th>4</th>\n",
       "      <td>REDMI Note 13 Pro 5G (Coral Purple, 256 GB)</td>\n",
       "      <td>32999</td>\n",
       "      <td>12 GB RAM | 256 GB ROM</td>\n",
       "      <td>4.3</td>\n",
       "      <td>16.94 cm (6.67 inch) Display</td>\n",
       "      <td>200MP (OIS) + 8MP + 2MP | 16MP Front Camera</td>\n",
       "      <td>5100</td>\n",
       "      <td>7s Gen 2 Mobile Platform 5G Processor</td>\n",
       "      <td>REDMI</td>\n",
       "      <td>1</td>\n",
       "      <td>12</td>\n",
       "      <td>256</td>\n",
       "      <td>200</td>\n",
       "      <td>16</td>\n",
       "    </tr>\n",
       "  </tbody>\n",
       "</table>\n",
       "</div>"
      ],
      "text/plain": [
       "                                    Model Name  Price                  Memory  \\\n",
       "0    vivo T3 Pro 5G (Sandstone Orange, 256 GB)  31999   8 GB RAM | 256 GB ROM   \n",
       "1       vivo T3 Pro 5G (Emerald Green, 256 GB)  31999   8 GB RAM | 256 GB ROM   \n",
       "2      MOTOROLA Edge 50 (Jungle Green, 256 GB)  32999   8 GB RAM | 256 GB ROM   \n",
       "3        MOTOROLA Edge 50 (Koala Grey, 256 GB)  32999   8 GB RAM | 256 GB ROM   \n",
       "4  REDMI Note 13 Pro 5G (Coral Purple, 256 GB)  32999  12 GB RAM | 256 GB ROM   \n",
       "\n",
       "   Rating                                      Display  \\\n",
       "0     4.5  17.2 cm (6.77 inch) Full HD+ AMOLED Display   \n",
       "1     4.5  17.2 cm (6.77 inch) Full HD+ AMOLED Display   \n",
       "2     4.3                 16.94 cm (6.67 inch) Display   \n",
       "3     4.3                 16.94 cm (6.67 inch) Display   \n",
       "4     4.3                 16.94 cm (6.67 inch) Display   \n",
       "\n",
       "                                        Camera Battery  \\\n",
       "0               50MP + 8MP | 16MP Front Camera    5500   \n",
       "1               50MP + 8MP | 16MP Front Camera    5500   \n",
       "2       50MP + 13MP + 10MP | 32MP Front Camera    5000   \n",
       "3       50MP + 13MP + 10MP | 32MP Front Camera    5000   \n",
       "4  200MP (OIS) + 8MP + 2MP | 16MP Front Camera    5100   \n",
       "\n",
       "                                          Processor     Brand  Is5G RAM  ROM  \\\n",
       "0                      Snapdragon 7 Gen 3 Processor      vivo     1   8  256   \n",
       "1                      Snapdragon 7 Gen 3 Processor      vivo     1   8  256   \n",
       "2  Snapdragon 7 Gen 1 Accelerated Edition Processor  MOTOROLA     0   8  256   \n",
       "3  Snapdragon 7 Gen 1 Accelerated Edition Processor  MOTOROLA     0   8  256   \n",
       "4             7s Gen 2 Mobile Platform 5G Processor     REDMI     1  12  256   \n",
       "\n",
       "  rear_camera front_camera  \n",
       "0          50           16  \n",
       "1          50           16  \n",
       "2          50           32  \n",
       "3          50           32  \n",
       "4         200           16  "
      ]
     },
     "execution_count": 723,
     "metadata": {},
     "output_type": "execute_result"
    }
   ],
   "source": [
    "df.head()"
   ]
  },
  {
   "cell_type": "code",
   "execution_count": null,
   "id": "949d1506-8c69-4918-bfaf-3c365c871d5a",
   "metadata": {},
   "outputs": [],
   "source": [
    "\t"
   ]
  },
  {
   "cell_type": "code",
   "execution_count": 724,
   "id": "9aec8d6c-4b07-4ebf-8db5-95b2effac577",
   "metadata": {},
   "outputs": [],
   "source": [
    "df['display'] = df['Display'].apply(lambda x:x.split(' ')[2].split('(')[1])"
   ]
  },
  {
   "cell_type": "code",
   "execution_count": null,
   "id": "b088d04f-fd36-4f1d-b773-f02eb96b5285",
   "metadata": {},
   "outputs": [],
   "source": []
  },
  {
   "cell_type": "code",
   "execution_count": 725,
   "id": "273391f4-9a56-46bb-ae4f-80270d376e1b",
   "metadata": {},
   "outputs": [],
   "source": [
    "def isAMoled(string):\n",
    "    if 'AMOLED' in string:\n",
    "         return 1\n",
    "    else :\n",
    "         return 0\n",
    "df['IsAMOLED'] = df['Display'].apply(isAMoled)        "
   ]
  },
  {
   "cell_type": "code",
   "execution_count": null,
   "id": "c07365f7-99bb-43c5-a18c-c0f96c557579",
   "metadata": {},
   "outputs": [],
   "source": []
  },
  {
   "cell_type": "code",
   "execution_count": 726,
   "id": "34b03a46-2ce0-4a38-a303-2a31cb2dfe3a",
   "metadata": {
    "scrolled": true
   },
   "outputs": [],
   "source": [
    "df.drop(columns=['Memory','Camera','Display','Model Name'],inplace= True)"
   ]
  },
  {
   "cell_type": "code",
   "execution_count": null,
   "id": "1964b7a7-d062-4998-abe3-12d657154e8d",
   "metadata": {},
   "outputs": [],
   "source": []
  },
  {
   "cell_type": "code",
   "execution_count": 727,
   "id": "53a5f85a-84a1-447a-8ec9-c1e2e3d2bca0",
   "metadata": {},
   "outputs": [
    {
     "name": "stdout",
     "output_type": "stream",
     "text": [
      "<class 'pandas.core.frame.DataFrame'>\n",
      "Index: 25556 entries, 0 to 28535\n",
      "Data columns (total 12 columns):\n",
      " #   Column        Non-Null Count  Dtype  \n",
      "---  ------        --------------  -----  \n",
      " 0   Price         25556 non-null  int32  \n",
      " 1   Rating        25556 non-null  float64\n",
      " 2   Battery       25556 non-null  object \n",
      " 3   Processor     25556 non-null  object \n",
      " 4   Brand         25556 non-null  object \n",
      " 5   Is5G          25556 non-null  int64  \n",
      " 6   RAM           25556 non-null  object \n",
      " 7   ROM           25351 non-null  object \n",
      " 8   rear_camera   25556 non-null  object \n",
      " 9   front_camera  19946 non-null  object \n",
      " 10  display       25556 non-null  object \n",
      " 11  IsAMOLED      25556 non-null  int64  \n",
      "dtypes: float64(1), int32(1), int64(2), object(8)\n",
      "memory usage: 2.4+ MB\n"
     ]
    }
   ],
   "source": [
    "df.info()"
   ]
  },
  {
   "cell_type": "code",
   "execution_count": 728,
   "id": "b542dc32-e2e9-42e5-8e72-59b66797a324",
   "metadata": {},
   "outputs": [],
   "source": [
    "df.dropna(inplace=True)"
   ]
  },
  {
   "cell_type": "code",
   "execution_count": 729,
   "id": "06bc6ced-a0ba-4374-8955-3fc449189236",
   "metadata": {},
   "outputs": [],
   "source": [
    "\n",
    "df['RAM'] = df['RAM'].astype('int64') \n",
    "df['ROM'] = df['ROM'].astype('int64') \n",
    "df['rear_camera'] = df['rear_camera'].astype('int64') \n",
    "df['front_camera'] = df['front_camera'].astype(str).str.strip()  # Remove spaces\n",
    "df['front_camera'] = pd.to_numeric(df['front_camera'], errors='coerce')  # Convert to numeric\n",
    "df['front_camera'] = df['front_camera'].fillna(0).astype(int) \n",
    "df['display'] = df['display'].astype('float64') \n",
    "\n"
   ]
  },
  {
   "cell_type": "code",
   "execution_count": 730,
   "id": "27d00670-c806-4674-a106-24bdeb4794b1",
   "metadata": {},
   "outputs": [],
   "source": [
    "temp = df.copy()\n",
    "temp.to_csv('mobile_data.csv')"
   ]
  },
  {
   "cell_type": "code",
   "execution_count": 731,
   "id": "df65c6f3-e3d7-431c-a97f-230da88ec34f",
   "metadata": {},
   "outputs": [
    {
     "data": {
      "text/html": [
       "<div>\n",
       "<style scoped>\n",
       "    .dataframe tbody tr th:only-of-type {\n",
       "        vertical-align: middle;\n",
       "    }\n",
       "\n",
       "    .dataframe tbody tr th {\n",
       "        vertical-align: top;\n",
       "    }\n",
       "\n",
       "    .dataframe thead th {\n",
       "        text-align: right;\n",
       "    }\n",
       "</style>\n",
       "<table border=\"1\" class=\"dataframe\">\n",
       "  <thead>\n",
       "    <tr style=\"text-align: right;\">\n",
       "      <th></th>\n",
       "      <th>Price</th>\n",
       "      <th>Rating</th>\n",
       "      <th>Battery</th>\n",
       "      <th>Processor</th>\n",
       "      <th>Brand</th>\n",
       "      <th>Is5G</th>\n",
       "      <th>RAM</th>\n",
       "      <th>ROM</th>\n",
       "      <th>rear_camera</th>\n",
       "      <th>front_camera</th>\n",
       "      <th>display</th>\n",
       "      <th>IsAMOLED</th>\n",
       "    </tr>\n",
       "  </thead>\n",
       "  <tbody>\n",
       "    <tr>\n",
       "      <th>0</th>\n",
       "      <td>31999</td>\n",
       "      <td>4.5</td>\n",
       "      <td>5500</td>\n",
       "      <td>Snapdragon 7 Gen 3 Processor</td>\n",
       "      <td>vivo</td>\n",
       "      <td>1</td>\n",
       "      <td>8</td>\n",
       "      <td>256</td>\n",
       "      <td>50</td>\n",
       "      <td>16</td>\n",
       "      <td>6.77</td>\n",
       "      <td>1</td>\n",
       "    </tr>\n",
       "    <tr>\n",
       "      <th>1</th>\n",
       "      <td>31999</td>\n",
       "      <td>4.5</td>\n",
       "      <td>5500</td>\n",
       "      <td>Snapdragon 7 Gen 3 Processor</td>\n",
       "      <td>vivo</td>\n",
       "      <td>1</td>\n",
       "      <td>8</td>\n",
       "      <td>256</td>\n",
       "      <td>50</td>\n",
       "      <td>16</td>\n",
       "      <td>6.77</td>\n",
       "      <td>1</td>\n",
       "    </tr>\n",
       "    <tr>\n",
       "      <th>2</th>\n",
       "      <td>32999</td>\n",
       "      <td>4.3</td>\n",
       "      <td>5000</td>\n",
       "      <td>Snapdragon 7 Gen 1 Accelerated Edition Processor</td>\n",
       "      <td>MOTOROLA</td>\n",
       "      <td>0</td>\n",
       "      <td>8</td>\n",
       "      <td>256</td>\n",
       "      <td>50</td>\n",
       "      <td>32</td>\n",
       "      <td>6.67</td>\n",
       "      <td>0</td>\n",
       "    </tr>\n",
       "    <tr>\n",
       "      <th>3</th>\n",
       "      <td>32999</td>\n",
       "      <td>4.3</td>\n",
       "      <td>5000</td>\n",
       "      <td>Snapdragon 7 Gen 1 Accelerated Edition Processor</td>\n",
       "      <td>MOTOROLA</td>\n",
       "      <td>0</td>\n",
       "      <td>8</td>\n",
       "      <td>256</td>\n",
       "      <td>50</td>\n",
       "      <td>32</td>\n",
       "      <td>6.67</td>\n",
       "      <td>0</td>\n",
       "    </tr>\n",
       "    <tr>\n",
       "      <th>4</th>\n",
       "      <td>32999</td>\n",
       "      <td>4.3</td>\n",
       "      <td>5100</td>\n",
       "      <td>7s Gen 2 Mobile Platform 5G Processor</td>\n",
       "      <td>REDMI</td>\n",
       "      <td>1</td>\n",
       "      <td>12</td>\n",
       "      <td>256</td>\n",
       "      <td>200</td>\n",
       "      <td>16</td>\n",
       "      <td>6.67</td>\n",
       "      <td>0</td>\n",
       "    </tr>\n",
       "  </tbody>\n",
       "</table>\n",
       "</div>"
      ],
      "text/plain": [
       "   Price  Rating Battery                                         Processor  \\\n",
       "0  31999     4.5    5500                      Snapdragon 7 Gen 3 Processor   \n",
       "1  31999     4.5    5500                      Snapdragon 7 Gen 3 Processor   \n",
       "2  32999     4.3    5000  Snapdragon 7 Gen 1 Accelerated Edition Processor   \n",
       "3  32999     4.3    5000  Snapdragon 7 Gen 1 Accelerated Edition Processor   \n",
       "4  32999     4.3    5100             7s Gen 2 Mobile Platform 5G Processor   \n",
       "\n",
       "      Brand  Is5G  RAM  ROM  rear_camera  front_camera  display  IsAMOLED  \n",
       "0      vivo     1    8  256           50            16     6.77         1  \n",
       "1      vivo     1    8  256           50            16     6.77         1  \n",
       "2  MOTOROLA     0    8  256           50            32     6.67         0  \n",
       "3  MOTOROLA     0    8  256           50            32     6.67         0  \n",
       "4     REDMI     1   12  256          200            16     6.67         0  "
      ]
     },
     "execution_count": 731,
     "metadata": {},
     "output_type": "execute_result"
    }
   ],
   "source": [
    "df.head()"
   ]
  },
  {
   "cell_type": "code",
   "execution_count": null,
   "id": "ed8114ac-e21e-48e0-ac62-e81505ca1bf6",
   "metadata": {},
   "outputs": [],
   "source": []
  },
  {
   "cell_type": "markdown",
   "id": "ec8d55c8-4a4f-4b11-849a-540060332748",
   "metadata": {},
   "source": [
    "###  EDA & Data Visualization "
   ]
  },
  {
   "cell_type": "code",
   "execution_count": 732,
   "id": "34fab6d4-0c88-47ca-978e-3b920b7fc5a5",
   "metadata": {},
   "outputs": [
    {
     "data": {
      "text/plain": [
       "<function matplotlib.pyplot.show(close=None, block=None)>"
      ]
     },
     "execution_count": 732,
     "metadata": {},
     "output_type": "execute_result"
    },
    {
     "data": {
      "image/png": "[encoded data removed]",
      "text/plain": [
       "<Figure size 1600x200 with 1 Axes>"
      ]
     },
     "metadata": {},
     "output_type": "display_data"
    }
   ],
   "source": [
    "# on Brand \n",
    "import seaborn as sns \n",
    "plt.figure(figsize=(16,2))\n",
    "sns.barplot(df['Brand'].value_counts())\n",
    "plt.show"
   ]
  },
  {
   "cell_type": "code",
   "execution_count": 733,
   "id": "a0aab2a5-132a-415a-a50d-a7afc26170aa",
   "metadata": {},
   "outputs": [
    {
     "data": {
      "text/plain": [
       "<function matplotlib.pyplot.show(close=None, block=None)>"
      ]
     },
     "execution_count": 733,
     "metadata": {},
     "output_type": "execute_result"
    },
    {
     "data": {
      "image/png": "[encoded data removed]",
      "text/plain": [
       "<Figure size 1600x200 with 1 Axes>"
      ]
     },
     "metadata": {},
     "output_type": "display_data"
    }
   ],
   "source": [
    "# on Processors \n",
    "plt.figure(figsize=(16,2))\n",
    "sns.barplot(df['Processor'].value_counts().head(15))\n",
    "plt.show"
   ]
  },
  {
   "cell_type": "code",
   "execution_count": 734,
   "id": "38bb8863-52cd-436b-a9c0-981fc54dbf5c",
   "metadata": {},
   "outputs": [
    {
     "data": {
      "text/plain": [
       "<function matplotlib.pyplot.show(close=None, block=None)>"
      ]
     },
     "execution_count": 734,
     "metadata": {},
     "output_type": "execute_result"
    },
    {
     "data": {
      "image/png": "[encoded data removed]",
      "text/plain": [
       "<Figure size 1600x200 with 1 Axes>"
      ]
     },
     "metadata": {},
     "output_type": "display_data"
    }
   ],
   "source": [
    "plt.figure(figsize=(16,2))\n",
    "sns.barplot(df['RAM'].value_counts().sort_values(ascending=False))\n",
    "plt.show"
   ]
  },
  {
   "cell_type": "code",
   "execution_count": 735,
   "id": "fa43818f-a91c-4b99-b2d5-d8de40dde29e",
   "metadata": {},
   "outputs": [
    {
     "data": {
      "text/plain": [
       "<function matplotlib.pyplot.show(close=None, block=None)>"
      ]
     },
     "execution_count": 735,
     "metadata": {},
     "output_type": "execute_result"
    },
    {
     "data": {
      "image/png": "[encoded data removed]",
      "text/plain": [
       "<Figure size 1600x200 with 1 Axes>"
      ]
     },
     "metadata": {},
     "output_type": "display_data"
    }
   ],
   "source": [
    "# rear Camera as Mega pixle\n",
    "plt.figure(figsize=(16,2))\n",
    "sns.barplot(df['rear_camera'].value_counts().sort_values(ascending=False))\n",
    "plt.show"
   ]
  },
  {
   "cell_type": "code",
   "execution_count": 736,
   "id": "575869e9-be17-4dc9-80fc-3c369085ef64",
   "metadata": {},
   "outputs": [
    {
     "data": {
      "text/plain": [
       "<function matplotlib.pyplot.show(close=None, block=None)>"
      ]
     },
     "execution_count": 736,
     "metadata": {},
     "output_type": "execute_result"
    },
    {
     "data": {
      "image/png": "[encoded data removed]",
      "text/plain": [
       "<Figure size 1600x200 with 1 Axes>"
      ]
     },
     "metadata": {},
     "output_type": "display_data"
    }
   ],
   "source": [
    "# front Camera as Mega pixle\n",
    "plt.figure(figsize=(16,2))\n",
    "sns.barplot(df['front_camera'].value_counts().sort_values(ascending=False),color='green')\n",
    "plt.show"
   ]
  },
  {
   "cell_type": "code",
   "execution_count": 737,
   "id": "fe9ecb9f-5132-4fed-bd0d-f23878c5c503",
   "metadata": {},
   "outputs": [
    {
     "data": {
      "text/plain": [
       "<function matplotlib.pyplot.show(close=None, block=None)>"
      ]
     },
     "execution_count": 737,
     "metadata": {},
     "output_type": "execute_result"
    },
    {
     "data": {
      "image/png": "[encoded data removed]",
      "text/plain": [
       "<Figure size 1600x500 with 1 Axes>"
      ]
     },
     "metadata": {},
     "output_type": "display_data"
    }
   ],
   "source": [
    "# front Camera as Mega pixle\n",
    "plt.figure(figsize=(16,5))\n",
    "sns.barplot(df['front_camera'].value_counts().sort_values(ascending=False),orient='h',color='red')\n",
    "plt.show"
   ]
  },
  {
   "cell_type": "code",
   "execution_count": 738,
   "id": "d0eab4a4-70b1-4cd3-ad1e-d3c973fb5558",
   "metadata": {},
   "outputs": [
    {
     "data": {
      "text/plain": [
       "<function matplotlib.pyplot.show(close=None, block=None)>"
      ]
     },
     "execution_count": 738,
     "metadata": {},
     "output_type": "execute_result"
    },
    {
     "data": {
      "image/png": "[encoded data removed]",
      "text/plain": [
       "<Figure size 1600x500 with 1 Axes>"
      ]
     },
     "metadata": {},
     "output_type": "display_data"
    }
   ],
   "source": [
    "# bettery \n",
    "plt.figure(figsize=(16,5))\n",
    "sns.barplot(df['Battery'].value_counts().sort_values(ascending=False),color='red')\n",
    "plt.show"
   ]
  },
  {
   "cell_type": "code",
   "execution_count": 739,
   "id": "ca55325f-683d-422a-9185-9945602607fd",
   "metadata": {},
   "outputs": [
    {
     "data": {
      "text/plain": [
       "<function matplotlib.pyplot.show(close=None, block=None)>"
      ]
     },
     "execution_count": 739,
     "metadata": {},
     "output_type": "execute_result"
    },
    {
     "data": {
      "image/png": "[encoded data removed]",
      "text/plain": [
       "<Figure size 600x600 with 1 Axes>"
      ]
     },
     "metadata": {},
     "output_type": "display_data"
    }
   ],
   "source": [
    "# is 5G \n",
    "plt.figure(figsize=(6,6))\n",
    "sns.barplot(df['Is5G'].value_counts().sort_values(ascending=False),color='blue')\n",
    "plt.show"
   ]
  },
  {
   "cell_type": "code",
   "execution_count": 740,
   "id": "971179ee-a2b0-43f8-abf0-6380edc838c5",
   "metadata": {},
   "outputs": [
    {
     "data": {
      "text/plain": [
       "<function matplotlib.pyplot.show(close=None, block=None)>"
      ]
     },
     "execution_count": 740,
     "metadata": {},
     "output_type": "execute_result"
    },
    {
     "data": {
      "image/png": "[encoded data removed]",
      "text/plain": [
       "<Figure size 600x400 with 1 Axes>"
      ]
     },
     "metadata": {},
     "output_type": "display_data"
    }
   ],
   "source": [
    "# is amoled\n",
    "plt.figure(figsize=(6,4))\n",
    "sns.barplot(df['IsAMOLED'].value_counts().sort_values(ascending=False),color='blue')\n",
    "plt.show"
   ]
  },
  {
   "cell_type": "code",
   "execution_count": 741,
   "id": "985b9e02-dad0-40aa-a013-0d96f79f52ed",
   "metadata": {},
   "outputs": [
    {
     "data": {
      "text/plain": [
       "<function matplotlib.pyplot.show(close=None, block=None)>"
      ]
     },
     "execution_count": 741,
     "metadata": {},
     "output_type": "execute_result"
    },
    {
     "data": {
      "image/png": "[encoded data removed]",
      "text/plain": [
       "<Figure size 600x400 with 1 Axes>"
      ]
     },
     "metadata": {},
     "output_type": "display_data"
    }
   ],
   "source": [
    "# is ROM\n",
    "plt.figure(figsize=(6,4))\n",
    "sns.barplot(df['ROM'].value_counts().sort_values(ascending=False),color='yellow')\n",
    "plt.show"
   ]
  },
  {
   "cell_type": "code",
   "execution_count": 742,
   "id": "23cd5b12-cce1-4d9f-b309-0f0036aade94",
   "metadata": {},
   "outputs": [
    {
     "data": {
      "text/plain": [
       "<function matplotlib.pyplot.show(close=None, block=None)>"
      ]
     },
     "execution_count": 742,
     "metadata": {},
     "output_type": "execute_result"
    },
    {
     "data": {
      "image/png": "[encoded data removed]",
      "text/plain": [
       "<Figure size 1200x400 with 1 Axes>"
      ]
     },
     "metadata": {},
     "output_type": "display_data"
    }
   ],
   "source": [
    "# is Display\n",
    "plt.figure(figsize=(12,4))\n",
    "sns.barplot(df['display'].value_counts().sort_values(ascending=False),color='yellow')\n",
    "plt.show"
   ]
  },
  {
   "cell_type": "markdown",
   "id": "e69fe8dd-1e60-4835-b33f-9426566e5c22",
   "metadata": {},
   "source": [
    "### Distribution "
   ]
  },
  {
   "cell_type": "code",
   "execution_count": 743,
   "id": "2b5f9362-002b-4eed-bb80-e699f01a5fb1",
   "metadata": {},
   "outputs": [
    {
     "data": {
      "image/png": "[encoded data removed]",
      "text/plain": [
       "<Figure size 1000x600 with 1 Axes>"
      ]
     },
     "metadata": {},
     "output_type": "display_data"
    }
   ],
   "source": [
    "# Select numeric columns\n",
    "numeric_cols = df.select_dtypes(include='number').columns\n",
    "\n",
    "# Plot KDEs\n",
    "plt.figure(figsize=(10, 6))\n",
    "for col in numeric_cols:\n",
    "    sns.histplot(df[col], label=col, fill=True,kde= True)\n",
    "plt.legend()\n",
    "plt.title(\"Density Plot of Numeric Columns\")\n",
    "plt.show()"
   ]
  },
  {
   "cell_type": "code",
   "execution_count": 744,
   "id": "5f7f901d-9729-4ef5-9cd4-eb788a74b0ff",
   "metadata": {},
   "outputs": [],
   "source": [
    "# fig, axes = plt.subplots(nrows=2, ncols=3, figsize=(15, 8))  # Adjust rows/cols\n",
    "# axes = axes.flatten()\n",
    "\n",
    "# for i, col in enumerate(numeric_cols):\n",
    "#     sns.histplot(df[col], ax=axes[i], kde=True)\n",
    "#     axes[i].set_title(col)\n",
    "# plt.show()"
   ]
  },
  {
   "cell_type": "code",
   "execution_count": 745,
   "id": "8a174a51-4c6f-4e50-b058-701ffb840975",
   "metadata": {},
   "outputs": [
    {
     "data": {
      "text/html": [
       "<div>\n",
       "<style scoped>\n",
       "    .dataframe tbody tr th:only-of-type {\n",
       "        vertical-align: middle;\n",
       "    }\n",
       "\n",
       "    .dataframe tbody tr th {\n",
       "        vertical-align: top;\n",
       "    }\n",
       "\n",
       "    .dataframe thead th {\n",
       "        text-align: right;\n",
       "    }\n",
       "</style>\n",
       "<table border=\"1\" class=\"dataframe\">\n",
       "  <thead>\n",
       "    <tr style=\"text-align: right;\">\n",
       "      <th></th>\n",
       "      <th>Price</th>\n",
       "      <th>Rating</th>\n",
       "      <th>Battery</th>\n",
       "      <th>Processor</th>\n",
       "      <th>Brand</th>\n",
       "      <th>Is5G</th>\n",
       "      <th>RAM</th>\n",
       "      <th>ROM</th>\n",
       "      <th>rear_camera</th>\n",
       "      <th>front_camera</th>\n",
       "      <th>display</th>\n",
       "      <th>IsAMOLED</th>\n",
       "    </tr>\n",
       "  </thead>\n",
       "  <tbody>\n",
       "    <tr>\n",
       "      <th>0</th>\n",
       "      <td>31999</td>\n",
       "      <td>4.5</td>\n",
       "      <td>5500</td>\n",
       "      <td>Snapdragon 7 Gen 3 Processor</td>\n",
       "      <td>vivo</td>\n",
       "      <td>1</td>\n",
       "      <td>8</td>\n",
       "      <td>256</td>\n",
       "      <td>50</td>\n",
       "      <td>16</td>\n",
       "      <td>6.77</td>\n",
       "      <td>1</td>\n",
       "    </tr>\n",
       "    <tr>\n",
       "      <th>1</th>\n",
       "      <td>31999</td>\n",
       "      <td>4.5</td>\n",
       "      <td>5500</td>\n",
       "      <td>Snapdragon 7 Gen 3 Processor</td>\n",
       "      <td>vivo</td>\n",
       "      <td>1</td>\n",
       "      <td>8</td>\n",
       "      <td>256</td>\n",
       "      <td>50</td>\n",
       "      <td>16</td>\n",
       "      <td>6.77</td>\n",
       "      <td>1</td>\n",
       "    </tr>\n",
       "    <tr>\n",
       "      <th>2</th>\n",
       "      <td>32999</td>\n",
       "      <td>4.3</td>\n",
       "      <td>5000</td>\n",
       "      <td>Snapdragon 7 Gen 1 Accelerated Edition Processor</td>\n",
       "      <td>MOTOROLA</td>\n",
       "      <td>0</td>\n",
       "      <td>8</td>\n",
       "      <td>256</td>\n",
       "      <td>50</td>\n",
       "      <td>32</td>\n",
       "      <td>6.67</td>\n",
       "      <td>0</td>\n",
       "    </tr>\n",
       "    <tr>\n",
       "      <th>3</th>\n",
       "      <td>32999</td>\n",
       "      <td>4.3</td>\n",
       "      <td>5000</td>\n",
       "      <td>Snapdragon 7 Gen 1 Accelerated Edition Processor</td>\n",
       "      <td>MOTOROLA</td>\n",
       "      <td>0</td>\n",
       "      <td>8</td>\n",
       "      <td>256</td>\n",
       "      <td>50</td>\n",
       "      <td>32</td>\n",
       "      <td>6.67</td>\n",
       "      <td>0</td>\n",
       "    </tr>\n",
       "    <tr>\n",
       "      <th>4</th>\n",
       "      <td>32999</td>\n",
       "      <td>4.3</td>\n",
       "      <td>5100</td>\n",
       "      <td>7s Gen 2 Mobile Platform 5G Processor</td>\n",
       "      <td>REDMI</td>\n",
       "      <td>1</td>\n",
       "      <td>12</td>\n",
       "      <td>256</td>\n",
       "      <td>200</td>\n",
       "      <td>16</td>\n",
       "      <td>6.67</td>\n",
       "      <td>0</td>\n",
       "    </tr>\n",
       "  </tbody>\n",
       "</table>\n",
       "</div>"
      ],
      "text/plain": [
       "   Price  Rating Battery                                         Processor  \\\n",
       "0  31999     4.5    5500                      Snapdragon 7 Gen 3 Processor   \n",
       "1  31999     4.5    5500                      Snapdragon 7 Gen 3 Processor   \n",
       "2  32999     4.3    5000  Snapdragon 7 Gen 1 Accelerated Edition Processor   \n",
       "3  32999     4.3    5000  Snapdragon 7 Gen 1 Accelerated Edition Processor   \n",
       "4  32999     4.3    5100             7s Gen 2 Mobile Platform 5G Processor   \n",
       "\n",
       "      Brand  Is5G  RAM  ROM  rear_camera  front_camera  display  IsAMOLED  \n",
       "0      vivo     1    8  256           50            16     6.77         1  \n",
       "1      vivo     1    8  256           50            16     6.77         1  \n",
       "2  MOTOROLA     0    8  256           50            32     6.67         0  \n",
       "3  MOTOROLA     0    8  256           50            32     6.67         0  \n",
       "4     REDMI     1   12  256          200            16     6.67         0  "
      ]
     },
     "execution_count": 745,
     "metadata": {},
     "output_type": "execute_result"
    }
   ],
   "source": [
    "df.head()"
   ]
  },
  {
   "cell_type": "code",
   "execution_count": 746,
   "id": "500840bc-0e0e-4806-97db-86ef0819a9b7",
   "metadata": {},
   "outputs": [
    {
     "data": {
      "text/html": [
       "<div>\n",
       "<style scoped>\n",
       "    .dataframe tbody tr th:only-of-type {\n",
       "        vertical-align: middle;\n",
       "    }\n",
       "\n",
       "    .dataframe tbody tr th {\n",
       "        vertical-align: top;\n",
       "    }\n",
       "\n",
       "    .dataframe thead th {\n",
       "        text-align: right;\n",
       "    }\n",
       "</style>\n",
       "<table border=\"1\" class=\"dataframe\">\n",
       "  <thead>\n",
       "    <tr style=\"text-align: right;\">\n",
       "      <th></th>\n",
       "      <th>Price</th>\n",
       "      <th>Rating</th>\n",
       "      <th>Battery</th>\n",
       "      <th>Processor</th>\n",
       "      <th>Brand</th>\n",
       "      <th>Is5G</th>\n",
       "      <th>RAM</th>\n",
       "      <th>ROM</th>\n",
       "      <th>rear_camera</th>\n",
       "      <th>front_camera</th>\n",
       "      <th>display</th>\n",
       "      <th>IsAMOLED</th>\n",
       "    </tr>\n",
       "  </thead>\n",
       "  <tbody>\n",
       "    <tr>\n",
       "      <th>20643</th>\n",
       "      <td>20999</td>\n",
       "      <td>4.3</td>\n",
       "      <td>5000</td>\n",
       "      <td>1 Year Domestic Warranty for Phone and 6 Month...</td>\n",
       "      <td>realme</td>\n",
       "      <td>1</td>\n",
       "      <td>8</td>\n",
       "      <td>128</td>\n",
       "      <td>50</td>\n",
       "      <td>16</td>\n",
       "      <td>6.67</td>\n",
       "      <td>1</td>\n",
       "    </tr>\n",
       "    <tr>\n",
       "      <th>21627</th>\n",
       "      <td>20999</td>\n",
       "      <td>4.3</td>\n",
       "      <td>5000</td>\n",
       "      <td>1 Year Domestic Warranty for Phone and 6 Month...</td>\n",
       "      <td>realme</td>\n",
       "      <td>1</td>\n",
       "      <td>8</td>\n",
       "      <td>128</td>\n",
       "      <td>50</td>\n",
       "      <td>16</td>\n",
       "      <td>6.67</td>\n",
       "      <td>1</td>\n",
       "    </tr>\n",
       "    <tr>\n",
       "      <th>22611</th>\n",
       "      <td>20999</td>\n",
       "      <td>4.3</td>\n",
       "      <td>5000</td>\n",
       "      <td>1 Year Domestic Warranty for Phone and 6 Month...</td>\n",
       "      <td>realme</td>\n",
       "      <td>1</td>\n",
       "      <td>8</td>\n",
       "      <td>128</td>\n",
       "      <td>50</td>\n",
       "      <td>16</td>\n",
       "      <td>6.67</td>\n",
       "      <td>1</td>\n",
       "    </tr>\n",
       "    <tr>\n",
       "      <th>23595</th>\n",
       "      <td>20999</td>\n",
       "      <td>4.3</td>\n",
       "      <td>5000</td>\n",
       "      <td>1 Year Domestic Warranty for Phone and 6 Month...</td>\n",
       "      <td>realme</td>\n",
       "      <td>1</td>\n",
       "      <td>8</td>\n",
       "      <td>128</td>\n",
       "      <td>50</td>\n",
       "      <td>16</td>\n",
       "      <td>6.67</td>\n",
       "      <td>1</td>\n",
       "    </tr>\n",
       "    <tr>\n",
       "      <th>24579</th>\n",
       "      <td>20999</td>\n",
       "      <td>4.3</td>\n",
       "      <td>5000</td>\n",
       "      <td>1 Year Domestic Warranty for Phone and 6 Month...</td>\n",
       "      <td>realme</td>\n",
       "      <td>1</td>\n",
       "      <td>8</td>\n",
       "      <td>128</td>\n",
       "      <td>50</td>\n",
       "      <td>16</td>\n",
       "      <td>6.67</td>\n",
       "      <td>1</td>\n",
       "    </tr>\n",
       "    <tr>\n",
       "      <th>25563</th>\n",
       "      <td>20999</td>\n",
       "      <td>4.3</td>\n",
       "      <td>5000</td>\n",
       "      <td>1 Year Domestic Warranty for Phone and 6 Month...</td>\n",
       "      <td>realme</td>\n",
       "      <td>1</td>\n",
       "      <td>8</td>\n",
       "      <td>128</td>\n",
       "      <td>50</td>\n",
       "      <td>16</td>\n",
       "      <td>6.67</td>\n",
       "      <td>1</td>\n",
       "    </tr>\n",
       "    <tr>\n",
       "      <th>26547</th>\n",
       "      <td>20999</td>\n",
       "      <td>4.3</td>\n",
       "      <td>5000</td>\n",
       "      <td>1 Year Domestic Warranty for Phone and 6 Month...</td>\n",
       "      <td>realme</td>\n",
       "      <td>1</td>\n",
       "      <td>8</td>\n",
       "      <td>128</td>\n",
       "      <td>50</td>\n",
       "      <td>16</td>\n",
       "      <td>6.67</td>\n",
       "      <td>1</td>\n",
       "    </tr>\n",
       "    <tr>\n",
       "      <th>27531</th>\n",
       "      <td>20999</td>\n",
       "      <td>4.3</td>\n",
       "      <td>5000</td>\n",
       "      <td>1 Year Domestic Warranty for Phone and 6 Month...</td>\n",
       "      <td>realme</td>\n",
       "      <td>1</td>\n",
       "      <td>8</td>\n",
       "      <td>128</td>\n",
       "      <td>50</td>\n",
       "      <td>16</td>\n",
       "      <td>6.67</td>\n",
       "      <td>1</td>\n",
       "    </tr>\n",
       "    <tr>\n",
       "      <th>28515</th>\n",
       "      <td>20999</td>\n",
       "      <td>4.3</td>\n",
       "      <td>5000</td>\n",
       "      <td>1 Year Domestic Warranty for Phone and 6 Month...</td>\n",
       "      <td>realme</td>\n",
       "      <td>1</td>\n",
       "      <td>8</td>\n",
       "      <td>128</td>\n",
       "      <td>50</td>\n",
       "      <td>16</td>\n",
       "      <td>6.67</td>\n",
       "      <td>1</td>\n",
       "    </tr>\n",
       "  </tbody>\n",
       "</table>\n",
       "</div>"
      ],
      "text/plain": [
       "       Price  Rating Battery  \\\n",
       "20643  20999     4.3    5000   \n",
       "21627  20999     4.3    5000   \n",
       "22611  20999     4.3    5000   \n",
       "23595  20999     4.3    5000   \n",
       "24579  20999     4.3    5000   \n",
       "25563  20999     4.3    5000   \n",
       "26547  20999     4.3    5000   \n",
       "27531  20999     4.3    5000   \n",
       "28515  20999     4.3    5000   \n",
       "\n",
       "                                               Processor   Brand  Is5G  RAM  \\\n",
       "20643  1 Year Domestic Warranty for Phone and 6 Month...  realme     1    8   \n",
       "21627  1 Year Domestic Warranty for Phone and 6 Month...  realme     1    8   \n",
       "22611  1 Year Domestic Warranty for Phone and 6 Month...  realme     1    8   \n",
       "23595  1 Year Domestic Warranty for Phone and 6 Month...  realme     1    8   \n",
       "24579  1 Year Domestic Warranty for Phone and 6 Month...  realme     1    8   \n",
       "25563  1 Year Domestic Warranty for Phone and 6 Month...  realme     1    8   \n",
       "26547  1 Year Domestic Warranty for Phone and 6 Month...  realme     1    8   \n",
       "27531  1 Year Domestic Warranty for Phone and 6 Month...  realme     1    8   \n",
       "28515  1 Year Domestic Warranty for Phone and 6 Month...  realme     1    8   \n",
       "\n",
       "       ROM  rear_camera  front_camera  display  IsAMOLED  \n",
       "20643  128           50            16     6.67         1  \n",
       "21627  128           50            16     6.67         1  \n",
       "22611  128           50            16     6.67         1  \n",
       "23595  128           50            16     6.67         1  \n",
       "24579  128           50            16     6.67         1  \n",
       "25563  128           50            16     6.67         1  \n",
       "26547  128           50            16     6.67         1  \n",
       "27531  128           50            16     6.67         1  \n",
       "28515  128           50            16     6.67         1  "
      ]
     },
     "execution_count": 746,
     "metadata": {},
     "output_type": "execute_result"
    }
   ],
   "source": [
    "df[df['Processor'].str.contains('Domestic Warranty')]\n"
   ]
  },
  {
   "cell_type": "markdown",
   "id": "b1a5c672-e49e-4e4e-a0db-13f3c3bccb22",
   "metadata": {},
   "source": [
    "### Feature Engineering"
   ]
  },
  {
   "cell_type": "code",
   "execution_count": 747,
   "id": "b3672a89-d99d-48a3-b134-44f403bde246",
   "metadata": {},
   "outputs": [
    {
     "name": "stdout",
     "output_type": "stream",
     "text": [
      "     Rating   Battery      Is5G       RAM       ROM  rear_camera  \\\n",
      "0  1.635652  1.484932  0.634867 -0.084254  0.762751    -0.419247   \n",
      "1  1.635652  1.484932  0.634867 -0.084254  0.762751    -0.419247   \n",
      "2  0.202319  0.137414 -1.575133 -0.084254  0.762751    -0.419247   \n",
      "3  0.202319  0.137414 -1.575133 -0.084254  0.762751    -0.419247   \n",
      "4  0.202319  0.406918  0.634867  1.740489  0.762751     2.924534   \n",
      "\n",
      "   front_camera   display  IsAMOLED  \\\n",
      "0     -0.497161  1.078190  3.029154   \n",
      "1     -0.497161  1.078190  3.029154   \n",
      "2      0.770488  0.266621 -0.330125   \n",
      "3      0.770488  0.266621 -0.330125   \n",
      "4     -0.497161  0.266621 -0.330125   \n",
      "\n",
      "   Processor_1 Year Domestic Warranty for Phone and 6 Months Warranty for In-Box Accessories  \\\n",
      "0                                                0.0                                           \n",
      "1                                                0.0                                           \n",
      "2                                                0.0                                           \n",
      "3                                                0.0                                           \n",
      "4                                                0.0                                           \n",
      "\n",
      "   ...  Brand_POCO  Brand_REDMI  Brand_SAMSUNG  Brand_Samsung  Brand_Tecno  \\\n",
      "0  ...         0.0          0.0            0.0            0.0          0.0   \n",
      "1  ...         0.0          0.0            0.0            0.0          0.0   \n",
      "2  ...         0.0          0.0            0.0            0.0          0.0   \n",
      "3  ...         0.0          0.0            0.0            0.0          0.0   \n",
      "4  ...         0.0          1.0            0.0            0.0          0.0   \n",
      "\n",
      "   Brand_Xiaomi  Brand_itel  Brand_realme  Brand_vivo     Price  \n",
      "0           0.0         0.0           0.0         1.0  0.028562  \n",
      "1           0.0         0.0           0.0         1.0  0.028562  \n",
      "2           0.0         0.0           0.0         0.0  0.106167  \n",
      "3           0.0         0.0           0.0         0.0  0.106167  \n",
      "4           0.0         0.0           0.0         0.0  0.106167  \n",
      "\n",
      "[5 rows x 164 columns]\n"
     ]
    }
   ],
   "source": [
    "# Preprocessing data / Scaling \n",
    "import pandas as pd\n",
    "import numpy as np\n",
    "import joblib\n",
    "from sklearn.preprocessing import StandardScaler, OneHotEncoder\n",
    "from sklearn.compose import ColumnTransformer\n",
    "\n",
    "# Load dataset (replace with actual path)\n",
    "\n",
    "# Ensure categorical columns are strings\n",
    "df['Processor'] = df['Processor'].astype(str)\n",
    "df['Brand'] = df['Brand'].astype(str)\n",
    "\n",
    "# Identify columns\n",
    "categorical_cols = ['Processor', 'Brand']\n",
    "numerical_cols = ['Rating', 'Battery', 'Is5G', 'RAM', 'ROM', 'rear_camera', 'front_camera', 'display', 'IsAMOLED']\n",
    "\n",
    "# Define ColumnTransformer\n",
    "preprocessor = ColumnTransformer([\n",
    "    ('num_scaling', StandardScaler(), numerical_cols),  # Standard scaling for numerical features\n",
    "    ('cat_encoding', OneHotEncoder(handle_unknown='ignore'), categorical_cols)  # OneHotEncoding for categorical\n",
    "])\n",
    "\n",
    "# Apply transformations and ensure it is a NumPy array\n",
    "transformed_data = preprocessor.fit_transform(df).toarray()\n",
    "\n",
    "\n",
    "\n",
    "# Get column names\n",
    "encoded_col_names = preprocessor.named_transformers_['cat_encoding'].get_feature_names_out(categorical_cols)\n",
    "all_columns = numerical_cols + list(encoded_col_names)\n",
    "# price scaller \n",
    "  # Scale the price separately\n",
    "\n",
    "# Save the price scaler\n",
    "joblib.dump(price_scaler, 'price_scaler.pkl')\n",
    "\n",
    "# Convert transformed data to DataFrame\n",
    "df_transformed = pd.DataFrame(transformed_data, columns=all_columns)\n",
    "price_scaler = StandardScaler()\n",
    "df_transformed['Price'] = price_scaler.fit_transform(df[['Price']])\n",
    "joblib.dump(price_scaler, 'price_scaler.pkl')\n",
    "joblib.dump(preprocessor, 'preprocessing_pipeline.pkl')\n",
    "# Show transformed dataset\n",
    "print(df_transformed.head())"
   ]
  },
  {
   "cell_type": "code",
   "execution_count": 748,
   "id": "d2a61b10-592f-40ae-9a64-b0ce8cb1f22c",
   "metadata": {},
   "outputs": [
    {
     "data": {
      "text/html": [
       "<div>\n",
       "<style scoped>\n",
       "    .dataframe tbody tr th:only-of-type {\n",
       "        vertical-align: middle;\n",
       "    }\n",
       "\n",
       "    .dataframe tbody tr th {\n",
       "        vertical-align: top;\n",
       "    }\n",
       "\n",
       "    .dataframe thead th {\n",
       "        text-align: right;\n",
       "    }\n",
       "</style>\n",
       "<table border=\"1\" class=\"dataframe\">\n",
       "  <thead>\n",
       "    <tr style=\"text-align: right;\">\n",
       "      <th></th>\n",
       "      <th>Rating</th>\n",
       "      <th>Battery</th>\n",
       "      <th>Is5G</th>\n",
       "      <th>RAM</th>\n",
       "      <th>ROM</th>\n",
       "      <th>rear_camera</th>\n",
       "      <th>front_camera</th>\n",
       "      <th>display</th>\n",
       "      <th>IsAMOLED</th>\n",
       "      <th>Processor_1 Year Domestic Warranty for Phone and 6 Months Warranty for In-Box Accessories</th>\n",
       "      <th>...</th>\n",
       "      <th>Brand_POCO</th>\n",
       "      <th>Brand_REDMI</th>\n",
       "      <th>Brand_SAMSUNG</th>\n",
       "      <th>Brand_Samsung</th>\n",
       "      <th>Brand_Tecno</th>\n",
       "      <th>Brand_Xiaomi</th>\n",
       "      <th>Brand_itel</th>\n",
       "      <th>Brand_realme</th>\n",
       "      <th>Brand_vivo</th>\n",
       "      <th>Price</th>\n",
       "    </tr>\n",
       "  </thead>\n",
       "  <tbody>\n",
       "    <tr>\n",
       "      <th>0</th>\n",
       "      <td>1.635652</td>\n",
       "      <td>1.484932</td>\n",
       "      <td>0.634867</td>\n",
       "      <td>-0.084254</td>\n",
       "      <td>0.762751</td>\n",
       "      <td>-0.419247</td>\n",
       "      <td>-0.497161</td>\n",
       "      <td>1.078190</td>\n",
       "      <td>3.029154</td>\n",
       "      <td>0.0</td>\n",
       "      <td>...</td>\n",
       "      <td>0.0</td>\n",
       "      <td>0.0</td>\n",
       "      <td>0.0</td>\n",
       "      <td>0.0</td>\n",
       "      <td>0.0</td>\n",
       "      <td>0.0</td>\n",
       "      <td>0.0</td>\n",
       "      <td>0.0</td>\n",
       "      <td>1.0</td>\n",
       "      <td>0.028562</td>\n",
       "    </tr>\n",
       "    <tr>\n",
       "      <th>1</th>\n",
       "      <td>1.635652</td>\n",
       "      <td>1.484932</td>\n",
       "      <td>0.634867</td>\n",
       "      <td>-0.084254</td>\n",
       "      <td>0.762751</td>\n",
       "      <td>-0.419247</td>\n",
       "      <td>-0.497161</td>\n",
       "      <td>1.078190</td>\n",
       "      <td>3.029154</td>\n",
       "      <td>0.0</td>\n",
       "      <td>...</td>\n",
       "      <td>0.0</td>\n",
       "      <td>0.0</td>\n",
       "      <td>0.0</td>\n",
       "      <td>0.0</td>\n",
       "      <td>0.0</td>\n",
       "      <td>0.0</td>\n",
       "      <td>0.0</td>\n",
       "      <td>0.0</td>\n",
       "      <td>1.0</td>\n",
       "      <td>0.028562</td>\n",
       "    </tr>\n",
       "    <tr>\n",
       "      <th>2</th>\n",
       "      <td>0.202319</td>\n",
       "      <td>0.137414</td>\n",
       "      <td>-1.575133</td>\n",
       "      <td>-0.084254</td>\n",
       "      <td>0.762751</td>\n",
       "      <td>-0.419247</td>\n",
       "      <td>0.770488</td>\n",
       "      <td>0.266621</td>\n",
       "      <td>-0.330125</td>\n",
       "      <td>0.0</td>\n",
       "      <td>...</td>\n",
       "      <td>0.0</td>\n",
       "      <td>0.0</td>\n",
       "      <td>0.0</td>\n",
       "      <td>0.0</td>\n",
       "      <td>0.0</td>\n",
       "      <td>0.0</td>\n",
       "      <td>0.0</td>\n",
       "      <td>0.0</td>\n",
       "      <td>0.0</td>\n",
       "      <td>0.106167</td>\n",
       "    </tr>\n",
       "    <tr>\n",
       "      <th>3</th>\n",
       "      <td>0.202319</td>\n",
       "      <td>0.137414</td>\n",
       "      <td>-1.575133</td>\n",
       "      <td>-0.084254</td>\n",
       "      <td>0.762751</td>\n",
       "      <td>-0.419247</td>\n",
       "      <td>0.770488</td>\n",
       "      <td>0.266621</td>\n",
       "      <td>-0.330125</td>\n",
       "      <td>0.0</td>\n",
       "      <td>...</td>\n",
       "      <td>0.0</td>\n",
       "      <td>0.0</td>\n",
       "      <td>0.0</td>\n",
       "      <td>0.0</td>\n",
       "      <td>0.0</td>\n",
       "      <td>0.0</td>\n",
       "      <td>0.0</td>\n",
       "      <td>0.0</td>\n",
       "      <td>0.0</td>\n",
       "      <td>0.106167</td>\n",
       "    </tr>\n",
       "    <tr>\n",
       "      <th>4</th>\n",
       "      <td>0.202319</td>\n",
       "      <td>0.406918</td>\n",
       "      <td>0.634867</td>\n",
       "      <td>1.740489</td>\n",
       "      <td>0.762751</td>\n",
       "      <td>2.924534</td>\n",
       "      <td>-0.497161</td>\n",
       "      <td>0.266621</td>\n",
       "      <td>-0.330125</td>\n",
       "      <td>0.0</td>\n",
       "      <td>...</td>\n",
       "      <td>0.0</td>\n",
       "      <td>1.0</td>\n",
       "      <td>0.0</td>\n",
       "      <td>0.0</td>\n",
       "      <td>0.0</td>\n",
       "      <td>0.0</td>\n",
       "      <td>0.0</td>\n",
       "      <td>0.0</td>\n",
       "      <td>0.0</td>\n",
       "      <td>0.106167</td>\n",
       "    </tr>\n",
       "  </tbody>\n",
       "</table>\n",
       "<p>5 rows × 164 columns</p>\n",
       "</div>"
      ],
      "text/plain": [
       "     Rating   Battery      Is5G       RAM       ROM  rear_camera  \\\n",
       "0  1.635652  1.484932  0.634867 -0.084254  0.762751    -0.419247   \n",
       "1  1.635652  1.484932  0.634867 -0.084254  0.762751    -0.419247   \n",
       "2  0.202319  0.137414 -1.575133 -0.084254  0.762751    -0.419247   \n",
       "3  0.202319  0.137414 -1.575133 -0.084254  0.762751    -0.419247   \n",
       "4  0.202319  0.406918  0.634867  1.740489  0.762751     2.924534   \n",
       "\n",
       "   front_camera   display  IsAMOLED  \\\n",
       "0     -0.497161  1.078190  3.029154   \n",
       "1     -0.497161  1.078190  3.029154   \n",
       "2      0.770488  0.266621 -0.330125   \n",
       "3      0.770488  0.266621 -0.330125   \n",
       "4     -0.497161  0.266621 -0.330125   \n",
       "\n",
       "   Processor_1 Year Domestic Warranty for Phone and 6 Months Warranty for In-Box Accessories  \\\n",
       "0                                                0.0                                           \n",
       "1                                                0.0                                           \n",
       "2                                                0.0                                           \n",
       "3                                                0.0                                           \n",
       "4                                                0.0                                           \n",
       "\n",
       "   ...  Brand_POCO  Brand_REDMI  Brand_SAMSUNG  Brand_Samsung  Brand_Tecno  \\\n",
       "0  ...         0.0          0.0            0.0            0.0          0.0   \n",
       "1  ...         0.0          0.0            0.0            0.0          0.0   \n",
       "2  ...         0.0          0.0            0.0            0.0          0.0   \n",
       "3  ...         0.0          0.0            0.0            0.0          0.0   \n",
       "4  ...         0.0          1.0            0.0            0.0          0.0   \n",
       "\n",
       "   Brand_Xiaomi  Brand_itel  Brand_realme  Brand_vivo     Price  \n",
       "0           0.0         0.0           0.0         1.0  0.028562  \n",
       "1           0.0         0.0           0.0         1.0  0.028562  \n",
       "2           0.0         0.0           0.0         0.0  0.106167  \n",
       "3           0.0         0.0           0.0         0.0  0.106167  \n",
       "4           0.0         0.0           0.0         0.0  0.106167  \n",
       "\n",
       "[5 rows x 164 columns]"
      ]
     },
     "execution_count": 748,
     "metadata": {},
     "output_type": "execute_result"
    }
   ],
   "source": [
    "df_transformed.head()"
   ]
  },
  {
   "cell_type": "code",
   "execution_count": 749,
   "id": "5024a609-336a-4ed2-ac81-39f4c9914fe6",
   "metadata": {},
   "outputs": [],
   "source": [
    "temp2 = df_transformed.copy()\n",
    "temp2.to_csv('Mobile_tranformed_Data.csv')"
   ]
  },
  {
   "cell_type": "markdown",
   "id": "c453885c-6376-4dba-8516-47d87723edff",
   "metadata": {},
   "source": [
    "### Training the Model :"
   ]
  },
  {
   "cell_type": "code",
   "execution_count": 750,
   "id": "bb912eed-4d3b-4c8a-906b-838ee30873c0",
   "metadata": {},
   "outputs": [],
   "source": [
    "from sklearn.model_selection import train_test_split \n",
    "X = df_transformed.drop(columns=['Price'])\n",
    "y = df_transformed['Price']\n",
    "X_train,X_test,y_train,y_test = train_test_split(X,y,test_size=0.2,random_state=42)"
   ]
  },
  {
   "cell_type": "code",
   "execution_count": 751,
   "id": "dcca378b-3d6d-45b0-b726-4ce01b05acda",
   "metadata": {},
   "outputs": [
    {
     "data": {
      "text/plain": [
       "2929     0.261376\n",
       "14585    2.201497\n",
       "9932    -0.126648\n",
       "6492    -0.281857\n",
       "14641    0.649400\n",
       "Name: Price, dtype: float64"
      ]
     },
     "execution_count": 751,
     "metadata": {},
     "output_type": "execute_result"
    }
   ],
   "source": [
    "y_train.head()\n"
   ]
  },
  {
   "cell_type": "code",
   "execution_count": 752,
   "id": "d8421b54-0721-4e55-b195-bf5db3d02ce7",
   "metadata": {},
   "outputs": [
    {
     "data": {
      "text/plain": [
       "['prediction_model']"
      ]
     },
     "execution_count": 752,
     "metadata": {},
     "output_type": "execute_result"
    }
   ],
   "source": [
    "# use random forest for this \n",
    "from sklearn.ensemble import RandomForestRegressor\n",
    "model = RandomForestRegressor(n_estimators=100, random_state=42)\n",
    "model.fit(X_train,y_train)\n",
    "joblib.dump(model,'prediction_model')"
   ]
  },
  {
   "cell_type": "code",
   "execution_count": 753,
   "id": "183f0e7c-5714-4485-97bc-87a32a1524cd",
   "metadata": {},
   "outputs": [],
   "source": [
    "y_pred = model.predict(X_test)"
   ]
  },
  {
   "cell_type": "code",
   "execution_count": null,
   "id": "f57a0312-287e-4410-a67f-dfac120fc844",
   "metadata": {},
   "outputs": [],
   "source": []
  },
  {
   "cell_type": "code",
   "execution_count": 754,
   "id": "0760f808-56ca-43f5-92a3-2fc243fd1cf5",
   "metadata": {},
   "outputs": [
    {
     "name": "stdout",
     "output_type": "stream",
     "text": [
      "MSE: 0.0014061481004439356\n",
      "R² Score  : 0.9986752860550545\n"
     ]
    }
   ],
   "source": [
    "from sklearn.metrics import mean_squared_error, r2_score\n",
    "mse = mean_squared_error(y_test, y_pred)\n",
    "r2 = r2_score(y_test, y_pred)\n",
    "y_test_pred = model.predict(X_test)\n",
    "mse_test = mean_squared_error(y_test, y_test_pred)\n",
    "r2_test = r2_score(y_test, y_test_pred)\n",
    "\n",
    "print(\"MSE:\", mse)\n",
    "print(\"R² Score  :\", r2)\n"
   ]
  },
  {
   "cell_type": "markdown",
   "id": "382d7ecd-be6e-4e56-a611-bda8e43b97a8",
   "metadata": {},
   "source": [
    "### Cheak for overfitting"
   ]
  },
  {
   "cell_type": "code",
   "execution_count": 755,
   "id": "8a7cd75d-b652-4d34-8b6b-c8f17ff74b84",
   "metadata": {},
   "outputs": [
    {
     "name": "stdout",
     "output_type": "stream",
     "text": [
      "Training MSE: 0.0012010155428933394\n",
      "Training R² Score: 0.9987797068871054\n",
      "Test MSE: 0.0014061481004439356\n",
      "Test R² Score: 0.9986752860550545\n"
     ]
    }
   ],
   "source": [
    "\n",
    "y_train_pred = model.predict(X_train)\n",
    "mse_train = mean_squared_error(y_train, y_train_pred)\n",
    "r2_train = r2_score(y_train, y_train_pred)\n",
    "\n",
    "# Evaluate on test set\n",
    "\n",
    "y_test_pred = model.predict(X_test)\n",
    "mse_test = mean_squared_error(y_test, y_test_pred)\n",
    "r2_test = r2_score(y_test, y_test_pred)\n",
    "\n",
    "# Print results\n",
    "\n",
    "print(\"Training MSE:\", mse_train)\n",
    "print(\"Training R² Score:\", r2_train)\n",
    "print(\"Test MSE:\", mse_test)\n",
    "print(\"Test R² Score:\", r2_test)\n",
    "\n",
    "# Check for overfitting\n",
    "\n",
    "# if r2_train > 0.90 and r2_test < 0.75:\n",
    "#     print(\"Warning: Model is overfitting!\")\n",
    "# elif r2_train < 0.60 and r2_test < 0.60:\n",
    "#     print(\"Model is underfitting.\")\n",
    "# else:\n",
    "#     print(\"Model is generalizing well.\")"
   ]
  },
  {
   "cell_type": "code",
   "execution_count": 756,
   "id": "f2edbe15-9781-4a94-92a7-acf3fee31b26",
   "metadata": {},
   "outputs": [
    {
     "name": "stdout",
     "output_type": "stream",
     "text": [
      "Processed Input Ready for Prediction:\n",
      "  (0, 0)\t1.6356522258193702\n",
      "  (0, 1)\t-1.2101040181610139\n",
      "  (0, 2)\t0.634867031615493\n",
      "  (0, 3)\t-0.0842537276896685\n",
      "  (0, 4)\t-0.7446916562241638\n",
      "  (0, 5)\t-0.10716044125941272\n",
      "  (0, 6)\t0.7704880243494764\n",
      "  (0, 7)\t0.5100917735915919\n",
      "  (0, 8)\t3.0291538745788875\n",
      "  (0, 157)\t1.0\n"
     ]
    }
   ],
   "source": [
    "import joblib\n",
    "import pandas as pd\n",
    "\n",
    "# Load the saved pipeline\n",
    "preprocessor = joblib.load('preprocessing_pipeline.pkl')\n",
    "\n",
    "# Example new data (replace with actual input)\n",
    "new_data = pd.DataFrame({\n",
    "    'Processor': ['Snapdragon 888'],\n",
    "    'Brand': ['Samsung'],\n",
    "    'Price': [25555],\n",
    "    'Rating': [4.5],\n",
    "    'Battery': [4500],\n",
    "    'Is5G': [1],\n",
    "    'RAM': [8],\n",
    "    'ROM': [128],\n",
    "    'rear_camera': [64],\n",
    "    'front_camera': [32],\n",
    "    'display': [6.7],\n",
    "    'IsAMOLED': [1]\n",
    "})\n",
    "\n",
    "# Ensure correct data types\n",
    "new_data['Processor'] = new_data['Processor'].astype(str)\n",
    "new_data['Brand'] = new_data['Brand'].astype(str)\n",
    "\n",
    "# Transform the new input using the saved pipeline\n",
    "processed_input = preprocessor.transform(new_data)\n",
    "\n",
    "print(\"Processed Input Ready for Prediction:\")\n",
    "print(processed_input)\n"
   ]
  },
  {
   "cell_type": "code",
   "execution_count": 757,
   "id": "8f010451-5c59-4acf-b1a7-3ccbcc707d29",
   "metadata": {},
   "outputs": [
    {
     "name": "stdout",
     "output_type": "stream",
     "text": [
      "Predicted Price: ₹ 18903.999999999985\n"
     ]
    },
    {
     "name": "stderr",
     "output_type": "stream",
     "text": [
      "C:\\Users\\HP\\anaconda3\\Lib\\site-packages\\sklearn\\base.py:493: UserWarning: X does not have valid feature names, but RandomForestRegressor was fitted with feature names\n",
      "  warnings.warn(\n"
     ]
    }
   ],
   "source": [
    "import joblib\n",
    "import pandas as pd\n",
    "import numpy as np\n",
    "\n",
    "# Load the saved pipeline and trained model\n",
    "preprocessor = joblib.load('preprocessing_pipeline.pkl')\n",
    "price_scaler = joblib.load('price_scaler.pkl')\n",
    "model = joblib.load('prediction_model')\n",
    "\n",
    "# Example new data (EXCLUDE 'Price')\n",
    "new_data = pd.DataFrame({\n",
    "    'Processor': ['Dimensity 6400 Processor'],\n",
    "    'Brand': ['realme'],\n",
    "    'Rating': [4.5],\n",
    "    'Battery': [6000],\n",
    "    'Is5G': [1],\n",
    "    'RAM': [6],\n",
    "    'ROM': [128],\n",
    "    'rear_camera': [50],\n",
    "    'front_camera': [8],\n",
    "    'display': [6.7],\n",
    "    'IsAMOLED': [0]\n",
    "})\n",
    "\n",
    "# Ensure correct data types\n",
    "new_data['Processor'] = new_data['Processor'].astype(str)\n",
    "new_data['Brand'] = new_data['Brand'].astype(str)\n",
    "\n",
    "# Transform input using the saved preprocessing pipeline\n",
    "processed_input = preprocessor.transform(new_data)\n",
    "\n",
    "# Make a scaled prediction\n",
    "predicted_price_scaled = model.predict(processed_input)\n",
    "\n",
    "# Convert back to original price range\n",
    "predicted_price = price_scaler.inverse_transform(np.array(predicted_price_scaled).reshape(-1, 1))\n",
    "\n",
    "print(\"Predicted Price: ₹\",predicted_price[0][0])  # Final price prediction"
   ]
  }
 ],
 "metadata": {
  "kernelspec": {
   "display_name": "Python 3 (ipykernel)",
   "language": "python",
   "name": "python3"
  },
  "language_info": {
   "codemirror_mode": {
    "name": "ipython",
    "version": 3
   },
   "file_extension": ".py",
   "mimetype": "text/x-python",
   "name": "python",
   "nbconvert_exporter": "python",
   "pygments_lexer": "ipython3",
   "version": "3.12.4"
  }
 },
 "nbformat": 4,
 "nbformat_minor": 5
}
